{
 "cells": [
  {
   "cell_type": "code",
   "execution_count": 1,
   "metadata": {},
   "outputs": [
    {
     "name": "stdout",
     "output_type": "stream",
     "text": [
      "Importing the dtw module. When using in academic works please cite:\n",
      "  T. Giorgino. Computing and Visualizing Dynamic Time Warping Alignments in R: The dtw Package.\n",
      "  J. Stat. Soft., doi:10.18637/jss.v031.i07.\n",
      "\n"
     ]
    }
   ],
   "source": [
    "from python_speech_features import mfcc\n",
    "import scipy.io.wavfile as wav\n",
    "import numpy as np\n",
    "import glob\n",
    "import dtw"
   ]
  },
  {
   "cell_type": "code",
   "execution_count": 2,
   "metadata": {},
   "outputs": [],
   "source": [
    "dbTrainPath = '/Clean Digits/Train/'\n",
    "sounds = glob.glob(dbTrainPath + '*.wav')\n",
    "trainMFCCs = []\n",
    "rate = 10000\n",
    "for sound in sounds:\n",
    "    _, sig = wav.read(sound)\n",
    "    mfccFeature = mfcc(sig, samplerate=rate, numcep=10, ceplifter=12)\n",
    "    trainMFCCs.append([mfccFeature, sound[-10:-4]])"
   ]
  },
  {
   "cell_type": "code",
   "execution_count": 3,
   "metadata": {},
   "outputs": [
    {
     "name": "stdout",
     "output_type": "stream",
     "text": [
      "The closest sound to < FCA_1A > is < FBH_1A >. \t Four others are ['FBH_1B' 'FAC_1A' 'FBH_5A' 'MBD_4A']\n",
      "The closest sound to < FCA_1B > is < FBH_1A >. \t Four others are ['FBH_1B' 'FBH_9A' 'MAE_1A' 'FBH_5A']\n",
      "The closest sound to < FCA_2A > is < FBH_2B >. \t Four others are ['FBH_2A' 'FAC_2A' 'FAC_8A' 'MAE_2B']\n",
      "The closest sound to < FCA_2B > is < FBH_2B >. \t Four others are ['FBH_2A' 'FAC_2A' 'FAC_2B' 'MAE_2B']\n",
      "The closest sound to < FCA_3A > is < FBH_3B >. \t Four others are ['FBH_3A' 'FAC_3B' 'FAC_8A' 'FBH_6B']\n",
      "The closest sound to < FCA_3B > is < FBH_3A >. \t Four others are ['FBH_3B' 'FAC_3B' 'FAC_8A' 'FBH_6B']\n",
      "The closest sound to < FCA_4A > is < FAC_4A >. \t Four others are ['FBH_4B' 'FAC_4B' 'MAE_4A' 'MBD_4A']\n",
      "The closest sound to < FCA_4B > is < FBH_4B >. \t Four others are ['FAC_4A' 'FAC_4B' 'FBH_4A' 'MAE_4A']\n",
      "The closest sound to < FCA_5A > is < FBH_5B >. \t Four others are ['FAC_5B' 'FBH_5A' 'FAC_5A' 'FBH_6A']\n",
      "The closest sound to < FCA_5B > is < FBH_5B >. \t Four others are ['FBH_5A' 'FAC_5B' 'FAC_5A' 'FBH_OB']\n",
      "The closest sound to < FCA_6A > is < FBH_6B >. \t Four others are ['FBH_6A' 'FAC_6A' 'FAC_6B' 'FBH_2A']\n",
      "The closest sound to < FCA_6B > is < FBH_6A >. \t Four others are ['FBH_6B' 'FAC_6B' 'FAC_6A' 'MBD_6A']\n",
      "The closest sound to < FCA_7A > is < FBH_7A >. \t Four others are ['FBH_7B' 'FBH_1A' 'FBH_6B' 'FAC_7A']\n",
      "The closest sound to < FCA_7B > is < FBH_7A >. \t Four others are ['FBH_7B' 'FAC_7A' 'FAC_7B' 'FBH_6B']\n",
      "The closest sound to < FCA_8A > is < FBH_8A >. \t Four others are ['FBH_8B' 'FBH_6A' 'FAC_8A' 'FBH_6B']\n",
      "The closest sound to < FCA_8B > is < FBH_8A >. \t Four others are ['FBH_8B' 'FBH_6A' 'FBH_6B' 'FAC_8A']\n",
      "The closest sound to < FCA_9A > is < FBH_9A >. \t Four others are ['FBH_9B' 'FBH_6B' 'FBH_1A' 'FBH_6A']\n",
      "The closest sound to < FCA_9B > is < FBH_9A >. \t Four others are ['FBH_9B' 'FBH_1A' 'FAC_8A' 'MBD_9B']\n",
      "The closest sound to < FCA_OA > is < FAC_OB >. \t Four others are ['FBH_OA' 'FBH_OB' 'FBH_4B' 'FAC_4B']\n",
      "The closest sound to < FCA_OB > is < FBH_OB >. \t Four others are ['FAC_OB' 'FBH_OA' 'FAC_OA' 'MBD_OB']\n",
      "The closest sound to < FCA_ZA > is < FBH_ZB >. \t Four others are ['FAC_ZB' 'FBH_ZA' 'FAC_ZA' 'FBH_7B']\n",
      "The closest sound to < FCA_ZB > is < FBH_ZA >. \t Four others are ['FBH_ZB' 'FAC_ZB' 'FAC_ZA' 'FBH_7B']\n",
      "\n",
      " \t \t \t 100.0 % Recognition accuray for FCA (female).\n"
     ]
    }
   ],
   "source": [
    "dbTestFemalePath = 'Clean Digits/Test/Female/'\n",
    "sounds = glob.glob(dbTestFemalePath + '*.wav')\n",
    "corrects_f = []\n",
    "for sound in sounds:\n",
    "    distance = []\n",
    "    _, sig = wav.read(sound)\n",
    "    mfccFeature = mfcc(sig, samplerate=rate, numcep=10, ceplifter=12)\n",
    "    for tmfcc in trainMFCCs:\n",
    "        d = dtw.dtw(mfccFeature, tmfcc[0])\n",
    "        distance.append([d.normalizedDistance, sound[-10:-4], tmfcc[1]])\n",
    "#     print(min(distance))\n",
    "    minIndex = distance.index(min(distance))\n",
    "    if distance[minIndex][1][-2] == distance[minIndex][2][-2]:\n",
    "        corrects_f.append(1)\n",
    "    else:\n",
    "        corrects_f.append(0)\n",
    "    \n",
    "    rec = np.asarray(sorted(distance))\n",
    "    print('The closest sound to', '<', sound[-10:-4 ],'>' ,'is' , '<', rec[0,2], '>.', '\\t Four others are', rec[1:5,2])\n",
    "\n",
    "print('\\n', '\\t \\t \\t', np.count_nonzero(corrects_f)*100/len(corrects_f), '%', 'Recognition accuray', 'for FCA (female).')"
   ]
  },
  {
   "cell_type": "code",
   "execution_count": 4,
   "metadata": {},
   "outputs": [
    {
     "name": "stdout",
     "output_type": "stream",
     "text": [
      "The closest sound to < MCB_1A > is < MBD_1B >. \t Four others are ['MBD_4A' 'MBD_5B' 'MBD_4B' 'MBD_5A']\n",
      "The closest sound to < MCB_1B > is < MBD_1B >. \t Four others are ['FAC_1B' 'MBD_4B' 'MBD_4A' 'MBD_5B']\n",
      "The closest sound to < MCB_2A > is < FAC_2A >. \t Four others are ['MBD_2B' 'MAE_2B' 'FAC_2B' 'FAC_6A']\n",
      "The closest sound to < MCB_2B > is < FAC_2A >. \t Four others are ['MBD_2B' 'FAC_2B' 'MBD_2A' 'FAC_6A']\n",
      "The closest sound to < MCB_3A > is < MBD_3A >. \t Four others are ['MBD_3B' 'MAE_3B' 'MAE_3A' 'FBH_3B']\n",
      "The closest sound to < MCB_3B > is < MAE_3B >. \t Four others are ['MBD_3A' 'MBD_3B' 'FBH_6B' 'FBH_3B']\n",
      "The closest sound to < MCB_4A > is < MBD_4A >. \t Four others are ['MBD_4B' 'MAE_4A' 'FBH_4B' 'MAE_4B']\n",
      "The closest sound to < MCB_4B > is < MBD_4A >. \t Four others are ['FBH_4B' 'MBD_4B' 'MAE_4A' 'MAE_4B']\n",
      "The closest sound to < MCB_5A > is < MBD_5B >. \t Four others are ['MBD_5A' 'MAE_5A' 'MAE_5B' 'MBD_6A']\n",
      "The closest sound to < MCB_5B > is < MBD_5B >. \t Four others are ['MAE_5B' 'MBD_5A' 'MAE_5A' 'MBD_6A']\n",
      "The closest sound to < MCB_6A > is < MBD_6A >. \t Four others are ['MBD_6B' 'FAC_6B' 'MAE_6A' 'MAE_6B']\n",
      "The closest sound to < MCB_6B > is < MAE_6A >. \t Four others are ['MBD_6B' 'MBD_6A' 'FBH_6B' 'MAE_6B']\n",
      "The closest sound to < MCB_7A > is < MBD_7A >. \t Four others are ['MBD_6A' 'MBD_6B' 'FAC_7A' 'MBD_7B']\n",
      "The closest sound to < MCB_7B > is < FAC_7A >. \t Four others are ['FBH_6B' 'FBH_7B' 'MBD_7A' 'FBH_7A']\n",
      "The closest sound to < MCB_8A > is < MBD_8B >. \t Four others are ['MBD_8A' 'FBH_6B' 'MBD_6A' 'FAC_8A']\n",
      "The closest sound to < MCB_8B > is < MBD_8B >. \t Four others are ['MBD_8A' 'FBH_6B' 'FBH_6A' 'FAC_6A']\n",
      "The closest sound to < MCB_9A > is < MBD_9B >. \t Four others are ['MBD_9A' 'MBD_5A' 'MBD_5B' 'FBH_5A']\n",
      "The closest sound to < MCB_9B > is < MBD_9A >. \t Four others are ['MBD_9B' 'MBD_5A' 'MBD_5B' 'MBD_8A']\n",
      "The closest sound to < MCB_OA > is < MBD_OA >. \t Four others are ['MBD_OB' 'MBD_4A' 'MAE_OA' 'MBD_5B']\n",
      "The closest sound to < MCB_OB > is < MBD_OA >. \t Four others are ['MBD_OB' 'FBH_4B' 'MBD_4A' 'MBD_5B']\n",
      "The closest sound to < MCB_ZA > is < MAE_ZA >. \t Four others are ['MAE_ZB' 'FAC_OB' 'MBD_ZB' 'FAC_2B']\n",
      "The closest sound to < MCB_ZB > is < MAE_ZA >. \t Four others are ['MAE_ZB' 'MBD_ZB' 'FBH_ZA' 'MBD_ZA']\n",
      "\n",
      " \t \t \t 100.0 % Recognition accuray for MCB (male).\n"
     ]
    }
   ],
   "source": [
    "dbTestMalePath = 'Clean Digits/Test/Male/'\n",
    "sounds = glob.glob(dbTestMalePath + '*.wav')\n",
    "corrects_m = []\n",
    "for sound in sounds:\n",
    "    distance = []\n",
    "    _, sig = wav.read(sound)\n",
    "    mfccFeature = mfcc(sig, samplerate=rate, numcep=10, ceplifter=12)\n",
    "    for tmfcc in trainMFCCs:\n",
    "        d = dtw.dtw(mfccFeature, tmfcc[0])\n",
    "        distance.append([d.normalizedDistance, sound[-10:-4], tmfcc[1]])\n",
    "#     print(min(distance))\n",
    "    minIndex = distance.index(min(distance))\n",
    "    if distance[minIndex][1][-2] == distance[minIndex][2][-2]:\n",
    "        corrects_m.append(1)\n",
    "    else:\n",
    "        corrects_m.append(0)\n",
    "        \n",
    "    rec = np.asarray(sorted(distance))\n",
    "    print('The closest sound to', '<', sound[-10:-4 ],'>' ,'is' , '<', rec[0,2], '>.', '\\t Four others are', rec[1:5,2])\n",
    "\n",
    "print('\\n', '\\t \\t \\t', np.count_nonzero(corrects_f)*100/len(corrects_f), '%', 'Recognition accuray', 'for MCB (male).')"
   ]
  }
 ],
 "metadata": {
  "kernelspec": {
   "display_name": "Python 3",
   "language": "python",
   "name": "python3"
  },
  "language_info": {
   "codemirror_mode": {
    "name": "ipython",
    "version": 3
   },
   "file_extension": ".py",
   "mimetype": "text/x-python",
   "name": "python",
   "nbconvert_exporter": "python",
   "pygments_lexer": "ipython3",
   "version": "3.8.5"
  }
 },
 "nbformat": 4,
 "nbformat_minor": 4
}
